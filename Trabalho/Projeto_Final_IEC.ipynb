{
  "nbformat": 4,
  "nbformat_minor": 0,
  "metadata": {
    "colab": {
      "provenance": [],
      "authorship_tag": "ABX9TyOgsf/dPaQsRXk7AFjqNGXK",
      "include_colab_link": true
    },
    "kernelspec": {
      "name": "python3",
      "display_name": "Python 3"
    },
    "language_info": {
      "name": "python"
    }
  },
  "cells": [
    {
      "cell_type": "markdown",
      "metadata": {
        "id": "view-in-github",
        "colab_type": "text"
      },
      "source": [
        "<a href=\"https://colab.research.google.com/github/vitor-acp/iec2023_2_turmas_a_b/blob/main/Trabalho/Projeto_Final_IEC.ipynb\" target=\"_parent\"><img src=\"https://colab.research.google.com/assets/colab-badge.svg\" alt=\"Open In Colab\"/></a>"
      ]
    },
    {
      "cell_type": "code",
      "execution_count": 1,
      "metadata": {
        "colab": {
          "base_uri": "https://localhost:8080/"
        },
        "id": "8UnlmGlC2w1y",
        "outputId": "d073f7cd-bc11-478d-8239-00fc2bd32482"
      },
      "outputs": [
        {
          "output_type": "stream",
          "name": "stdout",
          "text": [
            "\n",
            "1. Adicionar tarefa\n",
            "2. Exibir tarefas\n",
            "3. Marcar tarefa como concluída\n",
            "4. Jogar jogo da forca\n",
            "0. Sair\n",
            "Escolha uma opção: 2\n",
            "Nenhuma tarefa cadastrada.\n",
            "\n",
            "1. Adicionar tarefa\n",
            "2. Exibir tarefas\n",
            "3. Marcar tarefa como concluída\n",
            "4. Jogar jogo da forca\n",
            "0. Sair\n",
            "Escolha uma opção: 0\n",
            "Saindo do programa. Até mais!\n"
          ]
        }
      ],
      "source": [
        "import random\n",
        "\n",
        "def jogar_forca():\n",
        "    palavras = [\"carro\", \"programador\", \"computador\", \"engenharia\", \"calculo\", \"inteligencia\"]\n",
        "    palavra = random.choice(palavras)\n",
        "\n",
        "    letras_corretas = set()\n",
        "    tentativas = 6\n",
        "\n",
        "    while tentativas > 0:\n",
        "        palavra_mostrada = \"\".join(letra if letra in letras_corretas else \"_\" for letra in palavra)\n",
        "        print(f\"Palavra: {palavra_mostrada}\")\n",
        "\n",
        "        letra = input(\"Digite uma letra: \").lower()\n",
        "\n",
        "        if letra in letras_corretas:\n",
        "            print(\"Você já escolheu esta letra. Tente outra.\")\n",
        "            continue\n",
        "\n",
        "        if letra in palavra:\n",
        "            print(\"Letra correta!\")\n",
        "            letras_corretas.add(letra)\n",
        "        else:\n",
        "            print(\"Letra incorreta.\")\n",
        "            tentativas -= 1\n",
        "\n",
        "        if all(letra in letras_corretas for letra in palavra):\n",
        "            print(f\"Parabéns! Você acertou a palavra: {palavra}\")\n",
        "            break\n",
        "\n",
        "        print(f\"Tentativas restantes: {tentativas}\")\n",
        "\n",
        "    else:\n",
        "        print(f\"Fim de jogo. A palavra era: {palavra}\")\n",
        "\n",
        "def adicionar_tarefa(tarefas, descricao):\n",
        "    tarefas.append({\"descricao\": descricao, \"concluida\": False})\n",
        "    print(f\"Tarefa '{descricao}' adicionada com sucesso!\")\n",
        "\n",
        "def exibir_tarefas(tarefas):\n",
        "    if not tarefas:\n",
        "        print(\"Nenhuma tarefa cadastrada.\")\n",
        "    else:\n",
        "        print(\"Lista de tarefas:\")\n",
        "        for i, tarefa in enumerate(tarefas, 1):\n",
        "            status = \"Concluída\" if tarefa[\"concluida\"] else \"Pendente\"\n",
        "            print(f\"{i}. {tarefa['descricao']} - {status}\")\n",
        "\n",
        "def marcar_concluida(tarefas, numero_tarefa):\n",
        "    if 1 <= numero_tarefa <= len(tarefas):\n",
        "        tarefa = tarefas[numero_tarefa - 1]\n",
        "        if not tarefa[\"concluida\"]:\n",
        "            tarefa[\"concluida\"] = True\n",
        "            print(f\"Tarefa '{tarefa['descricao']}' marcada como concluída!\")\n",
        "        else:\n",
        "            print(f\"Tarefa '{tarefa['descricao']}' já está concluída.\")\n",
        "    else:\n",
        "        print(\"Número de tarefa inválido.\")\n",
        "\n",
        "def main():\n",
        "    tarefas = []\n",
        "\n",
        "    while True:\n",
        "        print(\"\\n1. Adicionar tarefa\")\n",
        "        print(\"2. Exibir tarefas\")\n",
        "        print(\"3. Marcar tarefa como concluída\")\n",
        "        print(\"4. Jogar jogo da forca\")\n",
        "        print(\"0. Sair\")\n",
        "\n",
        "        opcao = input(\"Escolha uma opção: \")\n",
        "\n",
        "        if opcao == \"1\":\n",
        "            descricao = input(\"Digite a descrição da tarefa: \")\n",
        "            adicionar_tarefa(tarefas, descricao)\n",
        "        elif opcao == \"2\":\n",
        "            exibir_tarefas(tarefas)\n",
        "        elif opcao == \"3\":\n",
        "            exibir_tarefas(tarefas)\n",
        "            numero_tarefa = int(input(\"Digite o número da tarefa a ser marcada como concluída: \"))\n",
        "            marcar_concluida(tarefas, numero_tarefa)\n",
        "        elif opcao == \"4\":\n",
        "            jogar_forca()\n",
        "        elif opcao == \"0\":\n",
        "            print(\"Saindo do programa. Até mais!\")\n",
        "            break\n",
        "        else:\n",
        "            print(\"Opção inválida. Tente novamente.\")\n",
        "\n",
        "if __name__ == \"__main__\":\n",
        "    main()\n"
      ]
    }
  ]
}